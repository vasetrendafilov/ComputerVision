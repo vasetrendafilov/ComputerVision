{
 "cells": [
  {
   "cell_type": "markdown",
   "metadata": {},
   "source": [
    "## Image classificaton for dataset MNIST"
   ]
  },
  {
   "cell_type": "code",
   "execution_count": 1,
   "metadata": {},
   "outputs": [
    {
     "name": "stderr",
     "output_type": "stream",
     "text": [
      "Using TensorFlow backend.\n"
     ]
    }
   ],
   "source": [
    "import os\n",
    "import cv2\n",
    "import numpy as np\n",
    "\n",
    "from sklearn.model_selection import train_test_split\n",
    "from sklearn.metrics import confusion_matrix\n",
    "\n",
    "from keras.utils import to_categorical, plot_model\n",
    "from keras.callbacks import ModelCheckpoint\n",
    "from keras.losses import categorical_crossentropy\n",
    "from keras.optimizers import Adam\n",
    "from keras.models import Sequential, Model, model_from_json\n",
    "from keras.layers import Dense, Dropout, Flatten, Conv2D, Conv2DTranspose, MaxPool2D, UpSampling2D, BatchNormalization, Input, ZeroPadding2D, Concatenate\n",
    "\n",
    "\n",
    "# custom package imports\n",
    "from Helpers_Classification import helper_model\n",
    "from Helpers_Classification import helper_data\n",
    "from Helpers_Classification import helper_stats"
   ]
  },
  {
   "cell_type": "markdown",
   "metadata": {},
   "source": [
    "### Load train and test dataset"
   ]
  },
  {
   "cell_type": "code",
   "execution_count": 2,
   "metadata": {},
   "outputs": [
    {
     "name": "stderr",
     "output_type": "stream",
     "text": [
      "5923it [00:05, 1163.49it/s]\n",
      "6742it [00:04, 1407.19it/s]\n",
      "5958it [00:04, 1402.37it/s]\n",
      "6131it [00:04, 1432.47it/s]\n",
      "5842it [00:03, 1525.88it/s]\n",
      "5421it [00:03, 1699.73it/s]\n",
      "5918it [00:03, 1863.00it/s]\n",
      "6265it [00:03, 1678.56it/s]\n",
      "5851it [00:03, 1655.31it/s]\n",
      "5949it [00:03, 1952.14it/s]\n",
      "980it [00:01, 682.23it/s]\n",
      "1135it [00:00, 1701.48it/s]\n",
      "1032it [00:00, 1698.99it/s]\n",
      "1010it [00:00, 1434.00it/s]\n",
      "982it [00:00, 1163.44it/s]\n",
      "892it [00:00, 1424.89it/s]\n",
      "958it [00:00, 1174.79it/s]\n",
      "1028it [00:00, 1128.60it/s]\n",
      "974it [00:00, 1113.15it/s]\n",
      "1009it [00:00, 1129.88it/s]\n"
     ]
    },
    {
     "name": "stdout",
     "output_type": "stream",
     "text": [
      "Training dataset shape: (60000, 28, 28, 1)\n",
      "Number of training samples: 60000\n",
      "Number of test samples: 10000\n"
     ]
    }
   ],
   "source": [
    "# NOTE: specify destination paths\n",
    "srcPath = r'C:\\Users\\vase_\\Downloads\\ComputerVision\\Data\\Minst'\n",
    "dstResultsPath = r'C:\\Users\\vase_\\Downloads\\ComputerVision\\Data\\Results'\n",
    "dstModelsPath = r'C:\\Users\\vase_\\Downloads\\ComputerVision\\Data\\Models'\n",
    "\n",
    "# --- variables ---\n",
    "imgDims = {'rows': 28, 'cols': 28}\n",
    "num_classes = 10\n",
    "image_depth = 1\n",
    "\n",
    "# --- load and format data ---\n",
    "# load full dataset into memory - image data and labels\n",
    "x_train, y_train = helper_data.read_images(os.path.join(srcPath, 'train'), None, image_depth)\n",
    "x_test, y_test = helper_data.read_images(os.path.join(srcPath, 'test'), None, image_depth)\n",
    "y_test = to_categorical(y_test, num_classes)\n",
    "\n",
    "print(f'Training dataset shape: {x_train.shape}')\n",
    "print(f'Number of training samples: {x_train.shape[0]}')\n",
    "print(f'Number of test samples: {x_test.shape[0]}')"
   ]
  },
  {
   "cell_type": "markdown",
   "metadata": {},
   "source": [
    "### Create training version"
   ]
  },
  {
   "cell_type": "code",
   "execution_count": 3,
   "metadata": {},
   "outputs": [],
   "source": [
    "# --- paths ---\n",
    "version = 'LV1_8'\n",
    "\n",
    "# optimization hyperprameters\n",
    "batch_size = 128\n",
    "epochs = 10\n",
    "lr = 0.0001\n",
    "\n",
    "# create folders to save data from the current execution\n",
    "if not os.path.exists(os.path.join(dstResultsPath, version)):\n",
    "    os.mkdir(os.path.join(dstResultsPath, version))\n",
    "else:\n",
    "    # to avoid overwriting training results\n",
    "    print(f\"Folder name {version} exists.\")\n",
    "    exit(1)\n",
    "\n",
    "resultsPath = os.path.join(dstResultsPath, version)\n",
    "\n",
    "if not os.path.exists(os.path.join(dstModelsPath, version)):\n",
    "    os.mkdir(os.path.join(dstModelsPath, version))\n",
    "modelsPath = os.path.join(dstModelsPath, version)"
   ]
  },
  {
   "cell_type": "markdown",
   "metadata": {},
   "source": [
    "### Create model"
   ]
  },
  {
   "cell_type": "code",
   "execution_count": 8,
   "metadata": {},
   "outputs": [],
   "source": [
    "# trim training data and one-hot encoding of labels\n",
    "x_train_trim, y_train_trim = helper_data.trim_train_data(x_train,y_train,None)\n",
    "y_train_trim = to_categorical(y_train_trim, num_classes)\n",
    "\n",
    "# create validation dataset (image and label data is shuffled in both datasets)\n",
    "X_train, X_val, Y_train, Y_val = train_test_split(x_train_trim, y_train_trim,\n",
    "                                                  test_size=0.2,    # assign random 20% of the samples to the validation set\n",
    "                                                  random_state=42)     # fixed random seed enables repeatability of sample choice across executions\n",
    "\n",
    "\n",
    "# --- construct model ---\n",
    "#model = helper_model.construct_model(num_classes)   # build model architecture\n",
    "model = Sequential()\n",
    "\n",
    "model.add(Conv2D(filters=16, kernel_size=(3, 3), padding='same', activation='relu', kernel_initializer='he_normal'))\n",
    "# model.add(MaxPool2D(pool_size=(2, 2)))\n",
    "model.add(Conv2D(filters=16, kernel_size=(3, 3), padding='same', activation='relu', kernel_initializer='he_normal'))\n",
    "model.add(MaxPool2D(pool_size=(2, 2)))\n",
    "\n",
    "model.add(Flatten())\n",
    "model.add(Dense(128, activation='relu'))\n",
    "model.add(Dense(num_classes, activation='softmax'))     # softmax for multi-class classification\n",
    "\n",
    "# compile model\n",
    "model.compile(loss=categorical_crossentropy,    # categorical crossentropy for multi-class classification\n",
    "              optimizer=Adam(lr=lr),\n",
    "              metrics=['accuracy'])\n",
    "# SGD(lr=lr, momentum=0.0, decay=0.0)\n",
    "\n",
    "# --- fit model ---\n",
    "model_checkpoint = ModelCheckpoint(filepath=os.path.join(modelsPath, 'checkpoint-{epoch:03d}-{val_accuracy:.4f}.hdf5'),   # epoch number and val accuracy will be part of the weight file name\n",
    "                                   monitor='val_accuracy',      # metric to monitor when selecting weight checkpoints to save\n",
    "                                   verbose=1,\n",
    "                                   save_best_only=True)     # True saves only the weights after epochs where the monitored value (val accuracy) is improved\n"
   ]
  },
  {
   "cell_type": "markdown",
   "metadata": {},
   "source": [
    "### Train model"
   ]
  },
  {
   "cell_type": "code",
   "execution_count": 9,
   "metadata": {},
   "outputs": [
    {
     "name": "stdout",
     "output_type": "stream",
     "text": [
      "\n",
      "Epoch 00001: val_accuracy improved from -inf to 0.91750, saving model to C:\\Users\\vase_\\Downloads\\ComputerVision\\Data\\Models\\LV1_8\\checkpoint-001-0.9175.hdf5\n",
      "\n",
      "Epoch 00002: val_accuracy improved from 0.91750 to 0.96733, saving model to C:\\Users\\vase_\\Downloads\\ComputerVision\\Data\\Models\\LV1_8\\checkpoint-002-0.9673.hdf5\n",
      "\n",
      "Epoch 00003: val_accuracy improved from 0.96733 to 0.97308, saving model to C:\\Users\\vase_\\Downloads\\ComputerVision\\Data\\Models\\LV1_8\\checkpoint-003-0.9731.hdf5\n",
      "\n",
      "Epoch 00004: val_accuracy improved from 0.97308 to 0.97642, saving model to C:\\Users\\vase_\\Downloads\\ComputerVision\\Data\\Models\\LV1_8\\checkpoint-004-0.9764.hdf5\n",
      "\n",
      "Epoch 00005: val_accuracy improved from 0.97642 to 0.98033, saving model to C:\\Users\\vase_\\Downloads\\ComputerVision\\Data\\Models\\LV1_8\\checkpoint-005-0.9803.hdf5\n",
      "\n",
      "Epoch 00006: val_accuracy improved from 0.98033 to 0.98317, saving model to C:\\Users\\vase_\\Downloads\\ComputerVision\\Data\\Models\\LV1_8\\checkpoint-006-0.9832.hdf5\n",
      "\n",
      "Epoch 00007: val_accuracy did not improve from 0.98317\n",
      "\n",
      "Epoch 00008: val_accuracy improved from 0.98317 to 0.98542, saving model to C:\\Users\\vase_\\Downloads\\ComputerVision\\Data\\Models\\LV1_8\\checkpoint-008-0.9854.hdf5\n"
     ]
    },
    {
     "ename": "KeyboardInterrupt",
     "evalue": "",
     "output_type": "error",
     "traceback": [
      "\u001b[1;31m---------------------------------------------------------------------------\u001b[0m",
      "\u001b[1;31mKeyboardInterrupt\u001b[0m                         Traceback (most recent call last)",
      "\u001b[1;32m<ipython-input-9-a7bd17f416af>\u001b[0m in \u001b[0;36m<module>\u001b[1;34m\u001b[0m\n\u001b[0;32m      4\u001b[0m                     \u001b[0mcallbacks\u001b[0m\u001b[1;33m=\u001b[0m\u001b[1;33m[\u001b[0m\u001b[0mmodel_checkpoint\u001b[0m\u001b[1;33m]\u001b[0m\u001b[1;33m,\u001b[0m\u001b[1;33m\u001b[0m\u001b[1;33m\u001b[0m\u001b[0m\n\u001b[0;32m      5\u001b[0m                     \u001b[0mverbose\u001b[0m\u001b[1;33m=\u001b[0m\u001b[1;36m0\u001b[0m\u001b[1;33m,\u001b[0m\u001b[1;33m\u001b[0m\u001b[1;33m\u001b[0m\u001b[0m\n\u001b[1;32m----> 6\u001b[1;33m                     validation_data=(X_val, Y_val))\n\u001b[0m",
      "\u001b[1;32m~\\miniconda3\\envs\\mv\\lib\\site-packages\\keras\\engine\\training.py\u001b[0m in \u001b[0;36mfit\u001b[1;34m(self, x, y, batch_size, epochs, verbose, callbacks, validation_split, validation_data, shuffle, class_weight, sample_weight, initial_epoch, steps_per_epoch, validation_steps, validation_freq, max_queue_size, workers, use_multiprocessing, **kwargs)\u001b[0m\n\u001b[0;32m   1237\u001b[0m                                         \u001b[0msteps_per_epoch\u001b[0m\u001b[1;33m=\u001b[0m\u001b[0msteps_per_epoch\u001b[0m\u001b[1;33m,\u001b[0m\u001b[1;33m\u001b[0m\u001b[1;33m\u001b[0m\u001b[0m\n\u001b[0;32m   1238\u001b[0m                                         \u001b[0mvalidation_steps\u001b[0m\u001b[1;33m=\u001b[0m\u001b[0mvalidation_steps\u001b[0m\u001b[1;33m,\u001b[0m\u001b[1;33m\u001b[0m\u001b[1;33m\u001b[0m\u001b[0m\n\u001b[1;32m-> 1239\u001b[1;33m                                         validation_freq=validation_freq)\n\u001b[0m\u001b[0;32m   1240\u001b[0m \u001b[1;33m\u001b[0m\u001b[0m\n\u001b[0;32m   1241\u001b[0m     def evaluate(self,\n",
      "\u001b[1;32m~\\miniconda3\\envs\\mv\\lib\\site-packages\\keras\\engine\\training_arrays.py\u001b[0m in \u001b[0;36mfit_loop\u001b[1;34m(model, fit_function, fit_inputs, out_labels, batch_size, epochs, verbose, callbacks, val_function, val_inputs, shuffle, initial_epoch, steps_per_epoch, validation_steps, validation_freq)\u001b[0m\n\u001b[0;32m    194\u001b[0m                     \u001b[0mins_batch\u001b[0m\u001b[1;33m[\u001b[0m\u001b[0mi\u001b[0m\u001b[1;33m]\u001b[0m \u001b[1;33m=\u001b[0m \u001b[0mins_batch\u001b[0m\u001b[1;33m[\u001b[0m\u001b[0mi\u001b[0m\u001b[1;33m]\u001b[0m\u001b[1;33m.\u001b[0m\u001b[0mtoarray\u001b[0m\u001b[1;33m(\u001b[0m\u001b[1;33m)\u001b[0m\u001b[1;33m\u001b[0m\u001b[1;33m\u001b[0m\u001b[0m\n\u001b[0;32m    195\u001b[0m \u001b[1;33m\u001b[0m\u001b[0m\n\u001b[1;32m--> 196\u001b[1;33m                 \u001b[0mouts\u001b[0m \u001b[1;33m=\u001b[0m \u001b[0mfit_function\u001b[0m\u001b[1;33m(\u001b[0m\u001b[0mins_batch\u001b[0m\u001b[1;33m)\u001b[0m\u001b[1;33m\u001b[0m\u001b[1;33m\u001b[0m\u001b[0m\n\u001b[0m\u001b[0;32m    197\u001b[0m                 \u001b[0mouts\u001b[0m \u001b[1;33m=\u001b[0m \u001b[0mto_list\u001b[0m\u001b[1;33m(\u001b[0m\u001b[0mouts\u001b[0m\u001b[1;33m)\u001b[0m\u001b[1;33m\u001b[0m\u001b[1;33m\u001b[0m\u001b[0m\n\u001b[0;32m    198\u001b[0m                 \u001b[1;32mfor\u001b[0m \u001b[0ml\u001b[0m\u001b[1;33m,\u001b[0m \u001b[0mo\u001b[0m \u001b[1;32min\u001b[0m \u001b[0mzip\u001b[0m\u001b[1;33m(\u001b[0m\u001b[0mout_labels\u001b[0m\u001b[1;33m,\u001b[0m \u001b[0mouts\u001b[0m\u001b[1;33m)\u001b[0m\u001b[1;33m:\u001b[0m\u001b[1;33m\u001b[0m\u001b[1;33m\u001b[0m\u001b[0m\n",
      "\u001b[1;32m~\\miniconda3\\envs\\mv\\lib\\site-packages\\tensorflow_core\\python\\keras\\backend.py\u001b[0m in \u001b[0;36m__call__\u001b[1;34m(self, inputs)\u001b[0m\n\u001b[0;32m   3474\u001b[0m \u001b[1;33m\u001b[0m\u001b[0m\n\u001b[0;32m   3475\u001b[0m     fetched = self._callable_fn(*array_vals,\n\u001b[1;32m-> 3476\u001b[1;33m                                 run_metadata=self.run_metadata)\n\u001b[0m\u001b[0;32m   3477\u001b[0m     \u001b[0mself\u001b[0m\u001b[1;33m.\u001b[0m\u001b[0m_call_fetch_callbacks\u001b[0m\u001b[1;33m(\u001b[0m\u001b[0mfetched\u001b[0m\u001b[1;33m[\u001b[0m\u001b[1;33m-\u001b[0m\u001b[0mlen\u001b[0m\u001b[1;33m(\u001b[0m\u001b[0mself\u001b[0m\u001b[1;33m.\u001b[0m\u001b[0m_fetches\u001b[0m\u001b[1;33m)\u001b[0m\u001b[1;33m:\u001b[0m\u001b[1;33m]\u001b[0m\u001b[1;33m)\u001b[0m\u001b[1;33m\u001b[0m\u001b[1;33m\u001b[0m\u001b[0m\n\u001b[0;32m   3478\u001b[0m     output_structure = nest.pack_sequence_as(\n",
      "\u001b[1;32m~\\miniconda3\\envs\\mv\\lib\\site-packages\\tensorflow_core\\python\\client\\session.py\u001b[0m in \u001b[0;36m__call__\u001b[1;34m(self, *args, **kwargs)\u001b[0m\n\u001b[0;32m   1470\u001b[0m         ret = tf_session.TF_SessionRunCallable(self._session._session,\n\u001b[0;32m   1471\u001b[0m                                                \u001b[0mself\u001b[0m\u001b[1;33m.\u001b[0m\u001b[0m_handle\u001b[0m\u001b[1;33m,\u001b[0m \u001b[0margs\u001b[0m\u001b[1;33m,\u001b[0m\u001b[1;33m\u001b[0m\u001b[1;33m\u001b[0m\u001b[0m\n\u001b[1;32m-> 1472\u001b[1;33m                                                run_metadata_ptr)\n\u001b[0m\u001b[0;32m   1473\u001b[0m         \u001b[1;32mif\u001b[0m \u001b[0mrun_metadata\u001b[0m\u001b[1;33m:\u001b[0m\u001b[1;33m\u001b[0m\u001b[1;33m\u001b[0m\u001b[0m\n\u001b[0;32m   1474\u001b[0m           \u001b[0mproto_data\u001b[0m \u001b[1;33m=\u001b[0m \u001b[0mtf_session\u001b[0m\u001b[1;33m.\u001b[0m\u001b[0mTF_GetBuffer\u001b[0m\u001b[1;33m(\u001b[0m\u001b[0mrun_metadata_ptr\u001b[0m\u001b[1;33m)\u001b[0m\u001b[1;33m\u001b[0m\u001b[1;33m\u001b[0m\u001b[0m\n",
      "\u001b[1;31mKeyboardInterrupt\u001b[0m: "
     ]
    }
   ],
   "source": [
    "history = model.fit(X_train, Y_train,\n",
    "                    batch_size=batch_size,  # number of samples to process before updating the weights\n",
    "                    epochs=epochs,\n",
    "                    callbacks=[model_checkpoint],\n",
    "                    verbose=0,\n",
    "                    validation_data=(X_val, Y_val))"
   ]
  },
  {
   "cell_type": "markdown",
   "metadata": {},
   "source": [
    "## Save and evaluate model"
   ]
  },
  {
   "cell_type": "code",
   "execution_count": 23,
   "metadata": {},
   "outputs": [
    {
     "name": "stdout",
     "output_type": "stream",
     "text": [
      "Model: \"sequential_5\"\n",
      "_________________________________________________________________\n",
      "Layer (type)                 Output Shape              Param #   \n",
      "=================================================================\n",
      "conv2d_5 (Conv2D)            (None, 28, 28, 16)        160       \n",
      "_________________________________________________________________\n",
      "conv2d_6 (Conv2D)            (None, 28, 28, 16)        2320      \n",
      "_________________________________________________________________\n",
      "max_pooling2d_3 (MaxPooling2 (None, 14, 14, 16)        0         \n",
      "_________________________________________________________________\n",
      "flatten_5 (Flatten)          (None, 3136)              0         \n",
      "_________________________________________________________________\n",
      "dense_9 (Dense)              (None, 128)               401536    \n",
      "_________________________________________________________________\n",
      "dense_10 (Dense)             (None, 10)                1290      \n",
      "=================================================================\n",
      "Total params: 405,306\n",
      "Trainable params: 405,306\n",
      "Non-trainable params: 0\n",
      "_________________________________________________________________\n",
      "None\n",
      "Saved model to disk.\n",
      "10000/10000 [==============================] - 2s 168us/step\n",
      "Test loss: 0.05016472921137465\n",
      "Test accuracy: 0.982699990272522\n"
     ]
    },
    {
     "data": {
      "image/png": "[encoded data removed]",
      "text/plain": [
       "<Figure size 576x432 with 2 Axes>"
      ]
     },
     "metadata": {
      "needs_background": "light"
     },
     "output_type": "display_data"
    }
   ],
   "source": [
    "# save model architecture\n",
    "print(model.summary())      # parameter info for each layer\n",
    "with open(os.path.join(modelsPath, 'modelSummary.txt'), 'w') as fh:     # save model summary\n",
    "    model.summary(print_fn=lambda x: fh.write(x + '\\n'))\n",
    "plot_model(model, to_file=os.path.join(modelsPath, 'modelDiagram.png'), show_shapes=True)   # save diagram of model architecture\n",
    "\n",
    "# save model configuration and weights\n",
    "model_json = model.to_json()  # serialize model architecture to JSON\n",
    "with open(os.path.join(os.path.join(modelsPath, 'model.json')), \"w\") as json_file:\n",
    "    json_file.write(model_json)\n",
    "model.save_weights(os.path.join(modelsPath, 'model.h5'))  # serialize weights to HDF5\n",
    "print(\"Saved model to disk.\")\n",
    "\n",
    "# --- save training curves and logs ---\n",
    "helper_stats.save_training_logs(history=history, dst_path=modelsPath)\n",
    "# --- apply model to test data ---\n",
    "Y_test_pred = model.predict(x_test, verbose=1)\n",
    "\n",
    "# --- evaluate model ---\n",
    "# accuracy\n",
    "score = model.evaluate(x_test, y_test, verbose=0)\n",
    "print('Test loss:', score[0])\n",
    "print('Test accuracy:', score[1])\n",
    "\n",
    "# confusion matrix\n",
    "labels = [x for x in range(10)]\n",
    "\n",
    "# convert one-hot encoded vectors to 1D list of classes\n",
    "y_test_list = np.argmax(y_test, axis=1)\n",
    "Y_test_pred_list = np.argmax(Y_test_pred, axis=1)\n",
    "\n",
    "cm = confusion_matrix(y_test_list, Y_test_pred_list, labels)    # takes 1D list of classes as input\n",
    "\n",
    "# plot confusion matrix\n",
    "target_names = [str(x) for x in labels]\n",
    "fig = helper_stats.plot_confusion_matrix(cm, target_names, title='Confusion matrix', cmap=None, normalize=False)\n",
    "fig.savefig(os.path.join(modelsPath, 'confusionMatrix.png'), dpi=fig.dpi)    # save confusion matrix as figure\n",
    "\n",
    "# --- save misclassified test samples ---\n",
    "# find indices of misclassified samples\n",
    "missed = [ind for ind, elem in enumerate(Y_test_pred_list) if elem != y_test_list[ind]]\n",
    "\n",
    "for i in missed:\n",
    "    cv2.imwrite(os.path.join(resultsPath, str(i).zfill(6) + '_' + str(Y_test_pred_list[i]) + '_' + str(y_test_list[i]) + '.png'),\n",
    "                (x_test[i] * 255).astype(np.uint8))     # transform value range inback to [0, 255]\n",
    "    # file name: OrdinalNumberOfSample_PredictedClass_TrueClass.png"
   ]
  }
 ],
 "metadata": {
  "interpreter": {
   "hash": "fe1d505efeec9ac660411879a1e8d3d291814ed58a8d2267422ecdf479b36f05"
  },
  "kernelspec": {
   "display_name": "Python 3.6.10 ('mv')",
   "language": "python",
   "name": "python3"
  },
  "language_info": {
   "codemirror_mode": {
    "name": "ipython",
    "version": 3
   },
   "file_extension": ".py",
   "mimetype": "text/x-python",
   "name": "python",
   "nbconvert_exporter": "python",
   "pygments_lexer": "ipython3",
   "version": "3.6.10"
  },
  "orig_nbformat": 4
 },
 "nbformat": 4,
 "nbformat_minor": 2
}
