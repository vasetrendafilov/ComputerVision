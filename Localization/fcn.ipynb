{
 "cells": [
  {
   "cell_type": "code",
   "execution_count": 1,
   "metadata": {},
   "outputs": [
    {
     "name": "stderr",
     "output_type": "stream",
     "text": [
      "Using TensorFlow backend.\n"
     ]
    }
   ],
   "source": [
    "import os\n",
    "import cv2\n",
    "import numpy as np\n",
    "from copy import deepcopy\n",
    "\n",
    "from keras.utils import plot_model\n",
    "from keras.callbacks import ModelCheckpoint\n",
    "from keras.optimizers import Adam\n",
    "\n",
    "# custom package imports\n",
    "from Helpers_Localization import helper_model\n",
    "from Helpers_Localization import helper_data\n",
    "from Helpers_Localization import helper_stats\n",
    "from Helpers_Localization import helper_losses"
   ]
  },
  {
   "cell_type": "code",
   "execution_count": 2,
   "metadata": {},
   "outputs": [],
   "source": [
    "# --- paths ---\n",
    "version = 'LV04_v2'\n",
    "\n",
    "# NOTE: specify destination paths\n",
    "srcImagesPath = r'C:\\Users\\vase_\\Downloads\\ComputerVision\\Data\\Gram\\M-30'\n",
    "\n",
    "srcAnnotationsPath = r'C:\\Users\\vase_\\Downloads\\ComputerVision\\Data\\Gram\\xml'\n",
    "dstModelsPath = r'C:\\Users\\vase_\\Downloads\\ComputerVision\\Data\\Models_tmp'\n",
    "gtDstPath = r'C:\\Users\\vase_\\Downloads\\ComputerVision\\Data\\GT'\n",
    "\n",
    "# create folders to save data from the current execution\n",
    "if not os.path.exists(os.path.join(dstModelsPath, version)):\n",
    "    os.mkdir(os.path.join(dstModelsPath, version))\n",
    "else:\n",
    "    # to avoid overwriting training results\n",
    "    print(f\"Folder name {version} exists.\")\n",
    "    exit(1)\n",
    "\n",
    "modelsPath = os.path.join(dstModelsPath, version)\n",
    "\n",
    "\n",
    "# --- variables ---\n",
    "class_names = ('bgr', 'cars')   # the element index marks the integer coding of classes (bgr - 0, cars - 1)\n",
    "\n",
    "imgDims = {'rows': 480, 'cols': 800}    # input image dimensions\n",
    "num_classes = 1\n",
    "img_depth = 1\n",
    "img_dims = (imgDims['rows'], imgDims['cols'], img_depth)\n"
   ]
  },
  {
   "cell_type": "code",
   "execution_count": 3,
   "metadata": {},
   "outputs": [
    {
     "name": "stderr",
     "output_type": "stream",
     "text": [
      "100%|██████████| 1000/1000 [00:05<00:00, 190.05it/s]\n"
     ]
    }
   ],
   "source": [
    "#x_train_orig, bboxes_train = helper_data.read_data_rpn(os.path.join(srcImagesPath, 'train'), (imgDims['cols'], imgDims['rows']), img_depth, srcAnnotationsPath, exclude_empty=True, shuffle=True)\n",
    "x_val_orig, bboxes_val = helper_data.read_data_rpn(os.path.join(srcImagesPath, 'val'), (imgDims['cols'], imgDims['rows']), img_depth, srcAnnotationsPath, exclude_empty=True, shuffle=True)"
   ]
  },
  {
   "cell_type": "code",
   "execution_count": 5,
   "metadata": {},
   "outputs": [],
   "source": [
    "# --- prepare ground truth data in required CNN output format ---\n",
    "anchor_dims = (32, 48, 64, 92)   # square anchors\n",
    "anchor_stride = 16      # NOTE: depends on the model configuration\n",
    "\n",
    "# iou thresholds for positive and negative samples\n",
    "iou_low = 0.3\n",
    "iou_high = 0.7\n",
    "num_negs_ratio = 10     # select X times more negative than positive samples"
   ]
  },
  {
   "cell_type": "code",
   "execution_count": 6,
   "metadata": {},
   "outputs": [
    {
     "name": "stderr",
     "output_type": "stream",
     "text": [
      "625it [00:44, 14.02it/s]\n"
     ]
    }
   ],
   "source": [
    "#y_class_train, valid_train = helper_data.get_anchor_data_cls(bboxes_train, anchor_dims, img_dims, anchor_stride, iou_low, iou_high, num_negs_ratio)\n",
    "y_class_val, valid_val = helper_data.get_anchor_data_cls(bboxes_val, anchor_dims, img_dims, anchor_stride, iou_low, iou_high, num_negs_ratio)"
   ]
  },
  {
   "cell_type": "code",
   "execution_count": 37,
   "metadata": {},
   "outputs": [],
   "source": [
    "imgVis = deepcopy(x_train_orig[1])\n",
    "bb = bboxes_train[3][0]\n",
    "cv2.rectangle(imgVis, (bb[0], bb[2]), (bb[1], bb[3]), color=(255),thickness=1)  # visualize all annotated objects\n",
    "i=10"
   ]
  },
  {
   "cell_type": "code",
   "execution_count": 48,
   "metadata": {},
   "outputs": [
    {
     "ename": "error",
     "evalue": "C:\\ci\\opencv_1512688052760\\work\\modules\\imgcodecs\\src\\utils.cpp:622: error: (-15) Source image must have 1, 3 or 4 channels in function cvConvertImage\n",
     "output_type": "error",
     "traceback": [
      "\u001b[1;31m---------------------------------------------------------------------------\u001b[0m",
      "\u001b[1;31merror\u001b[0m                                     Traceback (most recent call last)",
      "\u001b[1;32m<ipython-input-48-734c830168a7>\u001b[0m in \u001b[0;36m<module>\u001b[1;34m\u001b[0m\n\u001b[1;32m----> 1\u001b[1;33m \u001b[0mcv2\u001b[0m\u001b[1;33m.\u001b[0m\u001b[0mimshow\u001b[0m\u001b[1;33m(\u001b[0m\u001b[1;34m\"image\"\u001b[0m\u001b[1;33m,\u001b[0m \u001b[0my_class_train\u001b[0m\u001b[1;33m[\u001b[0m\u001b[1;36m0\u001b[0m\u001b[1;33m]\u001b[0m\u001b[1;33m)\u001b[0m\u001b[1;33m\u001b[0m\u001b[1;33m\u001b[0m\u001b[0m\n\u001b[0m\u001b[0;32m      2\u001b[0m \u001b[0mcv2\u001b[0m\u001b[1;33m.\u001b[0m\u001b[0mwaitKey\u001b[0m\u001b[1;33m(\u001b[0m\u001b[1;36m0\u001b[0m\u001b[1;33m)\u001b[0m\u001b[1;33m\u001b[0m\u001b[1;33m\u001b[0m\u001b[0m\n\u001b[0;32m      3\u001b[0m \u001b[0mcv2\u001b[0m\u001b[1;33m.\u001b[0m\u001b[0mdestroyAllWindows\u001b[0m\u001b[1;33m(\u001b[0m\u001b[1;33m)\u001b[0m\u001b[1;33m\u001b[0m\u001b[1;33m\u001b[0m\u001b[0m\n",
      "\u001b[1;31merror\u001b[0m: C:\\ci\\opencv_1512688052760\\work\\modules\\imgcodecs\\src\\utils.cpp:622: error: (-15) Source image must have 1, 3 or 4 channels in function cvConvertImage\n"
     ]
    }
   ],
   "source": [
    "cv2.imshow(\"image\", y_class_train[0])\n",
    "cv2.waitKey(0)\n",
    "cv2.destroyAllWindows()"
   ]
  },
  {
   "cell_type": "code",
   "execution_count": null,
   "metadata": {},
   "outputs": [],
   "source": []
  }
 ],
 "metadata": {
  "interpreter": {
   "hash": "fe1d505efeec9ac660411879a1e8d3d291814ed58a8d2267422ecdf479b36f05"
  },
  "kernelspec": {
   "display_name": "Python 3.6.10 ('mv')",
   "language": "python",
   "name": "python3"
  },
  "language_info": {
   "codemirror_mode": {
    "name": "ipython",
    "version": 3
   },
   "file_extension": ".py",
   "mimetype": "text/x-python",
   "name": "python",
   "nbconvert_exporter": "python",
   "pygments_lexer": "ipython3",
   "version": "3.6.10"
  },
  "orig_nbformat": 4
 },
 "nbformat": 4,
 "nbformat_minor": 2
}
